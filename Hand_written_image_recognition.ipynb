{
 "cells": [
  {
   "cell_type": "code",
   "execution_count": 1,
   "metadata": {},
   "outputs": [],
   "source": [
    "import pandas as pd\n",
    "import numpy as np\n",
    "import cv2\n",
    "import tensorflow as tf"
   ]
  },
  {
   "cell_type": "code",
   "execution_count": 25,
   "metadata": {},
   "outputs": [],
   "source": [
    "model = tf.keras.models.load_model(r'E:\\Coding\\Python\\hanwritten_recognization\\model1.h5')"
   ]
  },
  {
   "cell_type": "code",
   "execution_count": 2,
   "metadata": {},
   "outputs": [],
   "source": [
    "drawing=False # true if mouse is pressed\n",
    "mode=True\n",
    " \n",
    "# mouse callback function\n",
    "def paint_draw(event,former_x,former_y,flags,param):\n",
    "    global current_former_x,current_former_y,drawing, mode\n",
    " \n",
    "    if event==cv2.EVENT_LBUTTONDOWN:\n",
    "        drawing=True\n",
    "        current_former_x,current_former_y=former_x,former_y\n",
    " \n",
    "    elif event==cv2.EVENT_MOUSEMOVE:\n",
    "        if drawing==True:\n",
    "            if mode==True:\n",
    "                cv2.line(image,(current_former_x,current_former_y),(former_x,former_y),(255,255,255),2)\n",
    "                current_former_x = former_x\n",
    "                current_former_y = former_y\n",
    "    elif event==cv2.EVENT_LBUTTONUP:\n",
    "        drawing=False\n",
    "        if mode==True:\n",
    "            cv2.line(image,(current_former_x,current_former_y),(former_x,former_y),(255,255,255),2)\n",
    "            current_former_x = former_x\n",
    "            current_former_y = former_y\n",
    "    return former_x,former_y\n",
    " \n",
    " \n",
    "# image = np.zeros((512,512,3), np.uint8)\n",
    "image = np.zeros((140,140,1), np.uint8)\n",
    "cv2.namedWindow(\"OpenCV Paint Brush\")\n",
    "cv2.setMouseCallback('OpenCV Paint Brush',paint_draw)\n",
    "while(1):\n",
    "    cv2.imshow('OpenCV Paint Brush',image)\n",
    "    k=cv2.waitKey(1)& 0xFF\n",
    "    if k==27: #Escape KEY\n",
    "        cv2.imwrite(\"number.png\",image)\n",
    "        break\n",
    "cv2.destroyAllWindows()"
   ]
  },
  {
   "cell_type": "code",
   "execution_count": 60,
   "metadata": {},
   "outputs": [],
   "source": [
    "actual_img = cv2.imread(r'C:\\Users\\S\\Datascience\\number.png',0)\n",
    "img = cv2.resize(actual_img, (28, 28), interpolation = cv2.INTER_AREA) \n",
    "cv2.imshow('resize',img)\n",
    "cv2.waitKey(0)\n",
    "cv2.destroyAllWindows()"
   ]
  },
  {
   "cell_type": "code",
   "execution_count": 61,
   "metadata": {},
   "outputs": [
    {
     "name": "stdout",
     "output_type": "stream",
     "text": [
      "Predicted number is  0\n"
     ]
    }
   ],
   "source": [
    "\n",
    "rows,cols = img.shape\n",
    "pixel_data = []\n",
    "for i in range(rows):\n",
    "  for j in range(cols):\n",
    "     k = img[i,j]\n",
    "     pixel_data.append(k)\n",
    "pixel_data = pd.Series(pixel_data)\n",
    "var = pixel_data.values.reshape(1,28,28,1).astype('float32')\n",
    "predict = model.predict_classes(var)[0]\n",
    "print(\"Predicted number is \", predict)"
   ]
  }
 ],
 "metadata": {
  "kernelspec": {
   "display_name": "Python 3",
   "language": "python",
   "name": "python3"
  },
  "language_info": {
   "codemirror_mode": {
    "name": "ipython",
    "version": 3
   },
   "file_extension": ".py",
   "mimetype": "text/x-python",
   "name": "python",
   "nbconvert_exporter": "python",
   "pygments_lexer": "ipython3",
   "version": "3.7.4"
  }
 },
 "nbformat": 4,
 "nbformat_minor": 2
}
